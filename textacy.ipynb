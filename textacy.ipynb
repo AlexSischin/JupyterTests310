{
 "cells": [
  {
   "cell_type": "code",
   "execution_count": 8,
   "id": "fc39e85d",
   "metadata": {},
   "outputs": [
    {
     "name": "stdout",
     "output_type": "stream",
     "text": [
      "Requirement already satisfied: textacy in /home/alexsis/.pyenv/versions/3.10.11/envs/JupyterTests310/lib/python3.10/site-packages (0.13.0)\n",
      "Requirement already satisfied: cachetools>=4.0.0 in /home/alexsis/.pyenv/versions/3.10.11/envs/JupyterTests310/lib/python3.10/site-packages (from textacy) (5.3.0)\n",
      "Requirement already satisfied: catalogue~=2.0 in /home/alexsis/.pyenv/versions/3.10.11/envs/JupyterTests310/lib/python3.10/site-packages (from textacy) (2.0.8)\n",
      "Requirement already satisfied: cytoolz>=0.10.1 in /home/alexsis/.pyenv/versions/3.10.11/envs/JupyterTests310/lib/python3.10/site-packages (from textacy) (0.12.1)\n",
      "Requirement already satisfied: floret~=0.10.0 in /home/alexsis/.pyenv/versions/3.10.11/envs/JupyterTests310/lib/python3.10/site-packages (from textacy) (0.10.3)\n",
      "Requirement already satisfied: jellyfish>=0.8.0 in /home/alexsis/.pyenv/versions/3.10.11/envs/JupyterTests310/lib/python3.10/site-packages (from textacy) (0.11.2)\n",
      "Requirement already satisfied: joblib>=0.13.0 in /home/alexsis/.pyenv/versions/3.10.11/envs/JupyterTests310/lib/python3.10/site-packages (from textacy) (1.2.0)\n",
      "Requirement already satisfied: networkx>=2.7 in /home/alexsis/.pyenv/versions/3.10.11/envs/JupyterTests310/lib/python3.10/site-packages (from textacy) (3.1)\n",
      "Requirement already satisfied: numpy>=1.17.0 in /home/alexsis/.pyenv/versions/3.10.11/envs/JupyterTests310/lib/python3.10/site-packages (from textacy) (1.23.5)\n",
      "Requirement already satisfied: pyphen>=0.10.0 in /home/alexsis/.pyenv/versions/3.10.11/envs/JupyterTests310/lib/python3.10/site-packages (from textacy) (0.14.0)\n",
      "Requirement already satisfied: requests>=2.10.0 in /home/alexsis/.pyenv/versions/3.10.11/envs/JupyterTests310/lib/python3.10/site-packages (from textacy) (2.31.0)\n",
      "Requirement already satisfied: scipy>=1.8.0 in /home/alexsis/.pyenv/versions/3.10.11/envs/JupyterTests310/lib/python3.10/site-packages (from textacy) (1.10.1)\n",
      "Requirement already satisfied: scikit-learn>=1.0 in /home/alexsis/.pyenv/versions/3.10.11/envs/JupyterTests310/lib/python3.10/site-packages (from textacy) (1.2.2)\n",
      "Requirement already satisfied: spacy~=3.0 in /home/alexsis/.pyenv/versions/3.10.11/envs/JupyterTests310/lib/python3.10/site-packages (from textacy) (3.5.3)\n",
      "Requirement already satisfied: tqdm>=4.19.6 in /home/alexsis/.pyenv/versions/3.10.11/envs/JupyterTests310/lib/python3.10/site-packages (from textacy) (4.65.0)\n",
      "Requirement already satisfied: toolz>=0.8.0 in /home/alexsis/.pyenv/versions/3.10.11/envs/JupyterTests310/lib/python3.10/site-packages (from cytoolz>=0.10.1->textacy) (0.12.0)\n",
      "Requirement already satisfied: charset-normalizer<4,>=2 in /home/alexsis/.pyenv/versions/3.10.11/envs/JupyterTests310/lib/python3.10/site-packages (from requests>=2.10.0->textacy) (3.1.0)\n",
      "Requirement already satisfied: idna<4,>=2.5 in /home/alexsis/.pyenv/versions/3.10.11/envs/JupyterTests310/lib/python3.10/site-packages (from requests>=2.10.0->textacy) (3.4)\n",
      "Requirement already satisfied: urllib3<3,>=1.21.1 in /home/alexsis/.pyenv/versions/3.10.11/envs/JupyterTests310/lib/python3.10/site-packages (from requests>=2.10.0->textacy) (1.26.16)\n",
      "Requirement already satisfied: certifi>=2017.4.17 in /home/alexsis/.pyenv/versions/3.10.11/envs/JupyterTests310/lib/python3.10/site-packages (from requests>=2.10.0->textacy) (2023.5.7)\n",
      "Requirement already satisfied: threadpoolctl>=2.0.0 in /home/alexsis/.pyenv/versions/3.10.11/envs/JupyterTests310/lib/python3.10/site-packages (from scikit-learn>=1.0->textacy) (3.1.0)\n",
      "Requirement already satisfied: spacy-legacy<3.1.0,>=3.0.11 in /home/alexsis/.pyenv/versions/3.10.11/envs/JupyterTests310/lib/python3.10/site-packages (from spacy~=3.0->textacy) (3.0.12)\n",
      "Requirement already satisfied: spacy-loggers<2.0.0,>=1.0.0 in /home/alexsis/.pyenv/versions/3.10.11/envs/JupyterTests310/lib/python3.10/site-packages (from spacy~=3.0->textacy) (1.0.4)\n",
      "Requirement already satisfied: murmurhash<1.1.0,>=0.28.0 in /home/alexsis/.pyenv/versions/3.10.11/envs/JupyterTests310/lib/python3.10/site-packages (from spacy~=3.0->textacy) (1.0.9)\n",
      "Requirement already satisfied: cymem<2.1.0,>=2.0.2 in /home/alexsis/.pyenv/versions/3.10.11/envs/JupyterTests310/lib/python3.10/site-packages (from spacy~=3.0->textacy) (2.0.7)\n",
      "Requirement already satisfied: preshed<3.1.0,>=3.0.2 in /home/alexsis/.pyenv/versions/3.10.11/envs/JupyterTests310/lib/python3.10/site-packages (from spacy~=3.0->textacy) (3.0.8)\n",
      "Requirement already satisfied: thinc<8.2.0,>=8.1.8 in /home/alexsis/.pyenv/versions/3.10.11/envs/JupyterTests310/lib/python3.10/site-packages (from spacy~=3.0->textacy) (8.1.10)\n",
      "Requirement already satisfied: wasabi<1.2.0,>=0.9.1 in /home/alexsis/.pyenv/versions/3.10.11/envs/JupyterTests310/lib/python3.10/site-packages (from spacy~=3.0->textacy) (1.1.1)\n",
      "Requirement already satisfied: srsly<3.0.0,>=2.4.3 in /home/alexsis/.pyenv/versions/3.10.11/envs/JupyterTests310/lib/python3.10/site-packages (from spacy~=3.0->textacy) (2.4.6)\n",
      "Requirement already satisfied: typer<0.8.0,>=0.3.0 in /home/alexsis/.pyenv/versions/3.10.11/envs/JupyterTests310/lib/python3.10/site-packages (from spacy~=3.0->textacy) (0.7.0)\n",
      "Requirement already satisfied: pathy>=0.10.0 in /home/alexsis/.pyenv/versions/3.10.11/envs/JupyterTests310/lib/python3.10/site-packages (from spacy~=3.0->textacy) (0.10.1)\n",
      "Requirement already satisfied: smart-open<7.0.0,>=5.2.1 in /home/alexsis/.pyenv/versions/3.10.11/envs/JupyterTests310/lib/python3.10/site-packages (from spacy~=3.0->textacy) (6.3.0)\n",
      "Requirement already satisfied: pydantic!=1.8,!=1.8.1,<1.11.0,>=1.7.4 in /home/alexsis/.pyenv/versions/3.10.11/envs/JupyterTests310/lib/python3.10/site-packages (from spacy~=3.0->textacy) (1.10.8)\n",
      "Requirement already satisfied: jinja2 in /home/alexsis/.pyenv/versions/3.10.11/envs/JupyterTests310/lib/python3.10/site-packages (from spacy~=3.0->textacy) (3.1.2)\n",
      "Requirement already satisfied: setuptools in /home/alexsis/.pyenv/versions/3.10.11/envs/JupyterTests310/lib/python3.10/site-packages (from spacy~=3.0->textacy) (65.5.0)\n",
      "Requirement already satisfied: packaging>=20.0 in /home/alexsis/.pyenv/versions/3.10.11/envs/JupyterTests310/lib/python3.10/site-packages (from spacy~=3.0->textacy) (23.1)\n",
      "Requirement already satisfied: langcodes<4.0.0,>=3.2.0 in /home/alexsis/.pyenv/versions/3.10.11/envs/JupyterTests310/lib/python3.10/site-packages (from spacy~=3.0->textacy) (3.3.0)\n",
      "Requirement already satisfied: typing-extensions>=4.2.0 in /home/alexsis/.pyenv/versions/3.10.11/envs/JupyterTests310/lib/python3.10/site-packages (from pydantic!=1.8,!=1.8.1,<1.11.0,>=1.7.4->spacy~=3.0->textacy) (4.6.2)\n",
      "Requirement already satisfied: blis<0.8.0,>=0.7.8 in /home/alexsis/.pyenv/versions/3.10.11/envs/JupyterTests310/lib/python3.10/site-packages (from thinc<8.2.0,>=8.1.8->spacy~=3.0->textacy) (0.7.9)\n",
      "Requirement already satisfied: confection<1.0.0,>=0.0.1 in /home/alexsis/.pyenv/versions/3.10.11/envs/JupyterTests310/lib/python3.10/site-packages (from thinc<8.2.0,>=8.1.8->spacy~=3.0->textacy) (0.0.4)\n",
      "Requirement already satisfied: click<9.0.0,>=7.1.1 in /home/alexsis/.pyenv/versions/3.10.11/envs/JupyterTests310/lib/python3.10/site-packages (from typer<0.8.0,>=0.3.0->spacy~=3.0->textacy) (8.1.3)\n",
      "Requirement already satisfied: MarkupSafe>=2.0 in /home/alexsis/.pyenv/versions/3.10.11/envs/JupyterTests310/lib/python3.10/site-packages (from jinja2->spacy~=3.0->textacy) (2.1.2)\n",
      "2023-05-29 22:53:13.241897: W tensorflow/compiler/tf2tensorrt/utils/py_utils.cc:38] TF-TRT Warning: Could not find TensorRT\n",
      "Collecting en-core-web-sm==3.5.0\n",
      "  Downloading https://github.com/explosion/spacy-models/releases/download/en_core_web_sm-3.5.0/en_core_web_sm-3.5.0-py3-none-any.whl (12.8 MB)\n",
      "\u001b[2K     \u001b[90m━━━━━━━━━━━━━━━━━━━━━━━━━━━━━━━━━━━━━━━━\u001b[0m \u001b[32m12.8/12.8 MB\u001b[0m \u001b[31m28.7 MB/s\u001b[0m eta \u001b[36m0:00:00\u001b[0m00:01\u001b[0m00:01\u001b[0m\n",
      "\u001b[?25hRequirement already satisfied: spacy<3.6.0,>=3.5.0 in /home/alexsis/.pyenv/versions/3.10.11/envs/JupyterTests310/lib/python3.10/site-packages (from en-core-web-sm==3.5.0) (3.5.3)\n",
      "Requirement already satisfied: spacy-legacy<3.1.0,>=3.0.11 in /home/alexsis/.pyenv/versions/3.10.11/envs/JupyterTests310/lib/python3.10/site-packages (from spacy<3.6.0,>=3.5.0->en-core-web-sm==3.5.0) (3.0.12)\n",
      "Requirement already satisfied: spacy-loggers<2.0.0,>=1.0.0 in /home/alexsis/.pyenv/versions/3.10.11/envs/JupyterTests310/lib/python3.10/site-packages (from spacy<3.6.0,>=3.5.0->en-core-web-sm==3.5.0) (1.0.4)\n",
      "Requirement already satisfied: murmurhash<1.1.0,>=0.28.0 in /home/alexsis/.pyenv/versions/3.10.11/envs/JupyterTests310/lib/python3.10/site-packages (from spacy<3.6.0,>=3.5.0->en-core-web-sm==3.5.0) (1.0.9)\n",
      "Requirement already satisfied: cymem<2.1.0,>=2.0.2 in /home/alexsis/.pyenv/versions/3.10.11/envs/JupyterTests310/lib/python3.10/site-packages (from spacy<3.6.0,>=3.5.0->en-core-web-sm==3.5.0) (2.0.7)\n",
      "Requirement already satisfied: preshed<3.1.0,>=3.0.2 in /home/alexsis/.pyenv/versions/3.10.11/envs/JupyterTests310/lib/python3.10/site-packages (from spacy<3.6.0,>=3.5.0->en-core-web-sm==3.5.0) (3.0.8)\n",
      "Requirement already satisfied: thinc<8.2.0,>=8.1.8 in /home/alexsis/.pyenv/versions/3.10.11/envs/JupyterTests310/lib/python3.10/site-packages (from spacy<3.6.0,>=3.5.0->en-core-web-sm==3.5.0) (8.1.10)\n",
      "Requirement already satisfied: wasabi<1.2.0,>=0.9.1 in /home/alexsis/.pyenv/versions/3.10.11/envs/JupyterTests310/lib/python3.10/site-packages (from spacy<3.6.0,>=3.5.0->en-core-web-sm==3.5.0) (1.1.1)\n",
      "Requirement already satisfied: srsly<3.0.0,>=2.4.3 in /home/alexsis/.pyenv/versions/3.10.11/envs/JupyterTests310/lib/python3.10/site-packages (from spacy<3.6.0,>=3.5.0->en-core-web-sm==3.5.0) (2.4.6)\n",
      "Requirement already satisfied: catalogue<2.1.0,>=2.0.6 in /home/alexsis/.pyenv/versions/3.10.11/envs/JupyterTests310/lib/python3.10/site-packages (from spacy<3.6.0,>=3.5.0->en-core-web-sm==3.5.0) (2.0.8)\n",
      "Requirement already satisfied: typer<0.8.0,>=0.3.0 in /home/alexsis/.pyenv/versions/3.10.11/envs/JupyterTests310/lib/python3.10/site-packages (from spacy<3.6.0,>=3.5.0->en-core-web-sm==3.5.0) (0.7.0)\n",
      "Requirement already satisfied: pathy>=0.10.0 in /home/alexsis/.pyenv/versions/3.10.11/envs/JupyterTests310/lib/python3.10/site-packages (from spacy<3.6.0,>=3.5.0->en-core-web-sm==3.5.0) (0.10.1)\n",
      "Requirement already satisfied: smart-open<7.0.0,>=5.2.1 in /home/alexsis/.pyenv/versions/3.10.11/envs/JupyterTests310/lib/python3.10/site-packages (from spacy<3.6.0,>=3.5.0->en-core-web-sm==3.5.0) (6.3.0)\n",
      "Requirement already satisfied: tqdm<5.0.0,>=4.38.0 in /home/alexsis/.pyenv/versions/3.10.11/envs/JupyterTests310/lib/python3.10/site-packages (from spacy<3.6.0,>=3.5.0->en-core-web-sm==3.5.0) (4.65.0)\n",
      "Requirement already satisfied: numpy>=1.15.0 in /home/alexsis/.pyenv/versions/3.10.11/envs/JupyterTests310/lib/python3.10/site-packages (from spacy<3.6.0,>=3.5.0->en-core-web-sm==3.5.0) (1.23.5)\n",
      "Requirement already satisfied: requests<3.0.0,>=2.13.0 in /home/alexsis/.pyenv/versions/3.10.11/envs/JupyterTests310/lib/python3.10/site-packages (from spacy<3.6.0,>=3.5.0->en-core-web-sm==3.5.0) (2.31.0)\n",
      "Requirement already satisfied: pydantic!=1.8,!=1.8.1,<1.11.0,>=1.7.4 in /home/alexsis/.pyenv/versions/3.10.11/envs/JupyterTests310/lib/python3.10/site-packages (from spacy<3.6.0,>=3.5.0->en-core-web-sm==3.5.0) (1.10.8)\n",
      "Requirement already satisfied: jinja2 in /home/alexsis/.pyenv/versions/3.10.11/envs/JupyterTests310/lib/python3.10/site-packages (from spacy<3.6.0,>=3.5.0->en-core-web-sm==3.5.0) (3.1.2)\n",
      "Requirement already satisfied: setuptools in /home/alexsis/.pyenv/versions/3.10.11/envs/JupyterTests310/lib/python3.10/site-packages (from spacy<3.6.0,>=3.5.0->en-core-web-sm==3.5.0) (65.5.0)\n",
      "Requirement already satisfied: packaging>=20.0 in /home/alexsis/.pyenv/versions/3.10.11/envs/JupyterTests310/lib/python3.10/site-packages (from spacy<3.6.0,>=3.5.0->en-core-web-sm==3.5.0) (23.1)\n",
      "Requirement already satisfied: langcodes<4.0.0,>=3.2.0 in /home/alexsis/.pyenv/versions/3.10.11/envs/JupyterTests310/lib/python3.10/site-packages (from spacy<3.6.0,>=3.5.0->en-core-web-sm==3.5.0) (3.3.0)\n"
     ]
    },
    {
     "name": "stdout",
     "output_type": "stream",
     "text": [
      "Requirement already satisfied: typing-extensions>=4.2.0 in /home/alexsis/.pyenv/versions/3.10.11/envs/JupyterTests310/lib/python3.10/site-packages (from pydantic!=1.8,!=1.8.1,<1.11.0,>=1.7.4->spacy<3.6.0,>=3.5.0->en-core-web-sm==3.5.0) (4.6.2)\n",
      "Requirement already satisfied: charset-normalizer<4,>=2 in /home/alexsis/.pyenv/versions/3.10.11/envs/JupyterTests310/lib/python3.10/site-packages (from requests<3.0.0,>=2.13.0->spacy<3.6.0,>=3.5.0->en-core-web-sm==3.5.0) (3.1.0)\n",
      "Requirement already satisfied: idna<4,>=2.5 in /home/alexsis/.pyenv/versions/3.10.11/envs/JupyterTests310/lib/python3.10/site-packages (from requests<3.0.0,>=2.13.0->spacy<3.6.0,>=3.5.0->en-core-web-sm==3.5.0) (3.4)\n",
      "Requirement already satisfied: urllib3<3,>=1.21.1 in /home/alexsis/.pyenv/versions/3.10.11/envs/JupyterTests310/lib/python3.10/site-packages (from requests<3.0.0,>=2.13.0->spacy<3.6.0,>=3.5.0->en-core-web-sm==3.5.0) (1.26.16)\n",
      "Requirement already satisfied: certifi>=2017.4.17 in /home/alexsis/.pyenv/versions/3.10.11/envs/JupyterTests310/lib/python3.10/site-packages (from requests<3.0.0,>=2.13.0->spacy<3.6.0,>=3.5.0->en-core-web-sm==3.5.0) (2023.5.7)\n",
      "Requirement already satisfied: blis<0.8.0,>=0.7.8 in /home/alexsis/.pyenv/versions/3.10.11/envs/JupyterTests310/lib/python3.10/site-packages (from thinc<8.2.0,>=8.1.8->spacy<3.6.0,>=3.5.0->en-core-web-sm==3.5.0) (0.7.9)\n",
      "Requirement already satisfied: confection<1.0.0,>=0.0.1 in /home/alexsis/.pyenv/versions/3.10.11/envs/JupyterTests310/lib/python3.10/site-packages (from thinc<8.2.0,>=8.1.8->spacy<3.6.0,>=3.5.0->en-core-web-sm==3.5.0) (0.0.4)\n",
      "Requirement already satisfied: click<9.0.0,>=7.1.1 in /home/alexsis/.pyenv/versions/3.10.11/envs/JupyterTests310/lib/python3.10/site-packages (from typer<0.8.0,>=0.3.0->spacy<3.6.0,>=3.5.0->en-core-web-sm==3.5.0) (8.1.3)\n",
      "Requirement already satisfied: MarkupSafe>=2.0 in /home/alexsis/.pyenv/versions/3.10.11/envs/JupyterTests310/lib/python3.10/site-packages (from jinja2->spacy<3.6.0,>=3.5.0->en-core-web-sm==3.5.0) (2.1.2)\n",
      "Installing collected packages: en-core-web-sm\n",
      "Successfully installed en-core-web-sm-3.5.0\n",
      "\u001b[38;5;2m✔ Download and installation successful\u001b[0m\n",
      "You can now load the package via spacy.load('en_core_web_sm')\n"
     ]
    }
   ],
   "source": [
    "!pip install textacy\n",
    "!python -m spacy download en_core_web_sm"
   ]
  },
  {
   "cell_type": "code",
   "execution_count": 54,
   "id": "bf65f4fc",
   "metadata": {},
   "outputs": [],
   "source": [
    "import textacy\n",
    "from pprint import pprint"
   ]
  },
  {
   "cell_type": "code",
   "execution_count": 3,
   "id": "c4236cd2",
   "metadata": {},
   "outputs": [],
   "source": [
    "text1 = '''Dagny, there’s nothing of any importance in life—except how well you do your work. Nothing. Only that. \n",
    "Whatever else you are, will come from that. It’s the only measure of human value. All the codes of ethics they’ll \n",
    "try to ram down your throat are just so much paper money put out by swindlers to fleece people of their virtues. \n",
    "The code of competence is the only system of morality that’s on a gold standard. When you grow up, you’ll know what \n",
    "I mean.'''\n",
    "\n",
    "text2 = '''In the department of -- but it is better not to mention the department. There is nothing more irritable \n",
    "than departments, regiments, courts of justice, and, in a word, every branch of public service. Each individual \n",
    "attached to them nowadays thinks all society insulted in his person. Quite recently, a complaint was received from \n",
    "a justice of the peace, in which he plainly demonstrated that all the imperial institutions were going to the dogs, \n",
    "and that the Czar’s sacred name was being taken in vain; and all because a wretched private had dared to appear before \n",
    "him in his dressing-gown, and to address him in that state.'''\n",
    "\n",
    "text3 = '''But I have no leisure for them at all; and the reason, my friend, is this: I am not yet able, as the \n",
    "Delphic inscription has it, to know myself; so it seems to me ridiculous, when I do not yet know that, to investigate \n",
    "irrelevant things. And so I dismiss these matters and accepting the customary belief about them, as I was saying just \n",
    "now, I investigate not these things, but myself, to know whether I am a monster more complicated and more furious than \n",
    "Typhon or a gentler and simpler creature, to whom a divine and quiet lot is given by nature.'''\n",
    "\n",
    "text4 = '''On the morning of August 27, 1908, in a room over a general store beside the Pedernales River in the Texas \n",
    "Hill Country, a baby boy was born to a forty-year-old woman who had prayed for a son. And who, when her prayer was \n",
    "answered, would tell her son that he was destined for greatness. Who would instill in him an ambition that was \n",
    "overwhelming in its intensity, that would consume his life and that he, in turn, would transmit to his daughters. \n",
    "The ambition was to be fulfilled. The boy born that morning would reach heights of power that no one born in the Hill \n",
    "Country – no one born in Texas – had ever reached. And that power would be used in ways that would change the lives \n",
    "of millions of people and the very nature of the nation itself.'''"
   ]
  },
  {
   "cell_type": "code",
   "execution_count": 4,
   "id": "a6dc5a95",
   "metadata": {},
   "outputs": [],
   "source": [
    "texts = [text1, text2, text3, text4]"
   ]
  },
  {
   "cell_type": "code",
   "execution_count": 41,
   "id": "d6ce2807",
   "metadata": {},
   "outputs": [
    {
     "data": {
      "text/plain": [
       "textacy.corpus.Corpus"
      ]
     },
     "execution_count": 41,
     "metadata": {},
     "output_type": "execute_result"
    }
   ],
   "source": [
    "corpus = textacy.Corpus(\"en_core_web_sm\", texts)\n",
    "type(corpus)"
   ]
  },
  {
   "cell_type": "code",
   "execution_count": 42,
   "id": "6860ee4b",
   "metadata": {},
   "outputs": [
    {
     "name": "stdout",
     "output_type": "stream",
     "text": [
      "<class 'spacy.tokens.doc.Doc'>\n"
     ]
    }
   ],
   "source": [
    "doc1, doc2, doc3, doc4 = corpus.docs\n",
    "print(type(doc1))"
   ]
  },
  {
   "cell_type": "code",
   "execution_count": 24,
   "id": "cf7daa79",
   "metadata": {},
   "outputs": [
    {
     "data": {
      "text/plain": [
       "'Doc(166 tokens: \"On the morning of August 27, 1908, in a room ov...\")'"
      ]
     },
     "execution_count": 24,
     "metadata": {},
     "output_type": "execute_result"
    }
   ],
   "source": [
    "doc4._.preview"
   ]
  },
  {
   "cell_type": "code",
   "execution_count": 26,
   "id": "6f4406e7",
   "metadata": {},
   "outputs": [
    {
     "data": {
      "text/plain": [
       "[morning of August 27, 1908,\n",
       " Pedernales River,\n",
       " Texas,\n",
       " Hill Country,\n",
       " forty-year-old,\n",
       " morning,\n",
       " Hill \n",
       " Country,\n",
       " Texas,\n",
       " millions]"
      ]
     },
     "execution_count": 26,
     "metadata": {},
     "output_type": "execute_result"
    }
   ],
   "source": [
    "list(textacy.extract.entities(doc4))"
   ]
  },
  {
   "cell_type": "code",
   "execution_count": 29,
   "id": "28076baf",
   "metadata": {},
   "outputs": [
    {
     "data": {
      "text/plain": [
       "[SVOTriple(subject=[who], verb=[would, tell], object=[son]),\n",
       " SVOTriple(subject=[Who], verb=[would, instill], object=[ambition]),\n",
       " SVOTriple(subject=[that], verb=[would, consume], object=[life]),\n",
       " SVOTriple(subject=[he], verb=[would, transmit], object=[life]),\n",
       " SVOTriple(subject=[The, boy, born, that, morning], verb=[would, reach], object=[heights]),\n",
       " SVOTriple(subject=[one], verb=[had, reached], object=[that]),\n",
       " SVOTriple(subject=[that], verb=[would, change], object=[lives, nature])]"
      ]
     },
     "execution_count": 29,
     "metadata": {},
     "output_type": "execute_result"
    }
   ],
   "source": [
    "list(textacy.extract.subject_verb_object_triples(doc4))"
   ]
  },
  {
   "cell_type": "code",
   "execution_count": 35,
   "id": "6cc13cc1",
   "metadata": {},
   "outputs": [
    {
     "data": {
      "text/plain": [
       "[(0, 1), (0, 2), (0, 3), (1, 2), (1, 3), (2, 3)]"
      ]
     },
     "execution_count": 35,
     "metadata": {},
     "output_type": "execute_result"
    }
   ],
   "source": [
    "from itertools import combinations\n",
    "list(combinations(range(4), 2))"
   ]
  },
  {
   "cell_type": "code",
   "execution_count": 44,
   "id": "f699845c",
   "metadata": {},
   "outputs": [
    {
     "name": "stdout",
     "output_type": "stream",
     "text": [
      "Doc 1: Doc(106 tokens: \"Dagny, there’s nothing of any importance in lif...\")\n",
      "Doc 2: Doc(129 tokens: \"In the department of -- but it is better not to...\")\n",
      "Cosine similarity: 0.8219949365267865\n",
      "Levenshtein similarity: 0.26349206349206344\n",
      "Doc 1: Doc(106 tokens: \"Dagny, there’s nothing of any importance in lif...\")\n",
      "Doc 2: Doc(124 tokens: \"But I have no leisure for them at all; and the ...\")\n",
      "Cosine similarity: 0.8614435222839291\n",
      "Levenshtein similarity: 0.2554347826086957\n",
      "Doc 1: Doc(106 tokens: \"Dagny, there’s nothing of any importance in lif...\")\n",
      "Doc 2: Doc(166 tokens: \"On the morning of August 27, 1908, in a room ov...\")\n",
      "Cosine similarity: 0.7610194341477615\n",
      "Levenshtein similarity: 0.2666666666666667\n",
      "Doc 1: Doc(129 tokens: \"In the department of -- but it is better not to...\")\n",
      "Doc 2: Doc(124 tokens: \"But I have no leisure for them at all; and the ...\")\n",
      "Cosine similarity: 0.8451542547285166\n",
      "Levenshtein similarity: 0.265079365079365\n",
      "Doc 1: Doc(129 tokens: \"In the department of -- but it is better not to...\")\n",
      "Doc 2: Doc(166 tokens: \"On the morning of August 27, 1908, in a room ov...\")\n",
      "Cosine similarity: 0.7200822998230956\n",
      "Levenshtein similarity: 0.2773333333333333\n",
      "Doc 1: Doc(124 tokens: \"But I have no leisure for them at all; and the ...\")\n",
      "Doc 2: Doc(166 tokens: \"On the morning of August 27, 1908, in a room ov...\")\n",
      "Cosine similarity: 0.7042147167923565\n",
      "Levenshtein similarity: 0.276\n"
     ]
    }
   ],
   "source": [
    "for d1, d2 in combinations(docs, 2):\n",
    "    print(f'Doc 1: {d1._.preview}')\n",
    "    print(f'Doc 2: {d2._.preview}')\n",
    "    print(f'Cosine similarity: {textacy.similarity.cosine(d1.text, d2.text)}')\n",
    "    print(f'Levenshtein similarity: {textacy.similarity.levenshtein(d1.text, d2.text)}')"
   ]
  },
  {
   "cell_type": "code",
   "execution_count": 56,
   "id": "e11ae3a5",
   "metadata": {},
   "outputs": [
    {
     "name": "stdout",
     "output_type": "stream",
     "text": [
      "[('paper money', 0.02747140820813597),\n",
      " ('gold standard', 0.022213691454051575),\n",
      " ('human value', 0.020098168423121947),\n",
      " ('life', 0.013476903165852198),\n",
      " ('importance', 0.012496671553933147),\n",
      " ('swindler', 0.012274782487314444),\n",
      " ('people', 0.01063220936393599),\n",
      " ('ethic', 0.010317159256115508),\n",
      " ('throat', 0.01009916038573986),\n",
      " ('virtue', 0.009986853360950098)]\n",
      "[('wretched private', 0.020278617229828745),\n",
      " ('public service', 0.01858695414917655),\n",
      " ('department', 0.018316081104902463),\n",
      " ('imperial institution', 0.018246035602614646),\n",
      " ('justice', 0.011435421048622628),\n",
      " ('sacred', 0.010796864305404079),\n",
      " ('dressing', 0.010160524825315083),\n",
      " ('Czar', 0.009564677837181332),\n",
      " ('irritable', 0.00950243997218708),\n",
      " ('gown', 0.009467730350536545)]\n",
      "[('irrelevant thing', 0.026074339800283317),\n",
      " ('customary belief', 0.021832185801670796),\n",
      " ('Delphic inscription', 0.020341902081768122),\n",
      " ('quiet lot', 0.019419689029294182),\n",
      " ('simple creature', 0.018985900327585556),\n",
      " ('leisure', 0.01152915583380236),\n",
      " ('nature', 0.01080386374573613),\n",
      " ('furious', 0.010326584416736458),\n",
      " ('Typhon', 0.010048319132748344),\n",
      " ('monster', 0.009641422078234633)]\n",
      "[('Hill Country', 0.022229344728080906),\n",
      " ('baby boy', 0.020197542534698548),\n",
      " ('old woman', 0.019178702141337267),\n",
      " ('general store', 0.017984530793470427),\n",
      " ('Pedernales River', 0.01570942507724237),\n",
      " ('son', 0.012824590333155608),\n",
      " ('life', 0.012399088236765466),\n",
      " ('ambition', 0.01239897933541332),\n",
      " ('Texas', 0.012352431612244788),\n",
      " ('morning', 0.01223410236769062)]\n"
     ]
    }
   ],
   "source": [
    "for doc in docs:\n",
    "    pprint(textacy.extract.keyterms.textrank(doc))"
   ]
  }
 ],
 "metadata": {
  "kernelspec": {
   "display_name": "Python 3 (ipykernel)",
   "language": "python",
   "name": "python3"
  },
  "language_info": {
   "codemirror_mode": {
    "name": "ipython",
    "version": 3
   },
   "file_extension": ".py",
   "mimetype": "text/x-python",
   "name": "python",
   "nbconvert_exporter": "python",
   "pygments_lexer": "ipython3",
   "version": "3.10.6"
  }
 },
 "nbformat": 4,
 "nbformat_minor": 5
}
