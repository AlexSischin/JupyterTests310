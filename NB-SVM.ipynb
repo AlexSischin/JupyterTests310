{
 "cells": [
  {
   "cell_type": "markdown",
   "id": "ee8935d2",
   "metadata": {},
   "source": [
    "IMDB sentiment analysis dataset.\n",
    "\n",
    "https://www.kaggle.com/datasets/lakshmi25npathi/imdb-dataset-of-50k-movie-reviews\n",
    "\n",
    "[1] Maas, A. L., Daly, R. E., Pham, P. T., Huang, D., Ng, A. Y., & Potts, C. (2011, June). Learning Word Vectors for Sentiment Analysis. In Proceedings of the 49th Annual Meeting of the Association for Computational Linguistics: Human Language Technologies (pp. 142-150). [Link](http://www.aclweb.org/anthology/P11-1015)"
   ]
  },
  {
   "cell_type": "markdown",
   "id": "0dea3654",
   "metadata": {},
   "source": [
    "# Scikit-learn"
   ]
  },
  {
   "cell_type": "code",
   "execution_count": 1,
   "id": "0309b163",
   "metadata": {},
   "outputs": [
    {
     "data": {
      "text/html": [
       "<div>\n",
       "<style scoped>\n",
       "    .dataframe tbody tr th:only-of-type {\n",
       "        vertical-align: middle;\n",
       "    }\n",
       "\n",
       "    .dataframe tbody tr th {\n",
       "        vertical-align: top;\n",
       "    }\n",
       "\n",
       "    .dataframe thead th {\n",
       "        text-align: right;\n",
       "    }\n",
       "</style>\n",
       "<table border=\"1\" class=\"dataframe\">\n",
       "  <thead>\n",
       "    <tr style=\"text-align: right;\">\n",
       "      <th></th>\n",
       "      <th>review</th>\n",
       "      <th>sentiment</th>\n",
       "    </tr>\n",
       "  </thead>\n",
       "  <tbody>\n",
       "    <tr>\n",
       "      <th>0</th>\n",
       "      <td>One of the other reviewers has mentioned that ...</td>\n",
       "      <td>positive</td>\n",
       "    </tr>\n",
       "    <tr>\n",
       "      <th>1</th>\n",
       "      <td>A wonderful little production. &lt;br /&gt;&lt;br /&gt;The...</td>\n",
       "      <td>positive</td>\n",
       "    </tr>\n",
       "    <tr>\n",
       "      <th>2</th>\n",
       "      <td>I thought this was a wonderful way to spend ti...</td>\n",
       "      <td>positive</td>\n",
       "    </tr>\n",
       "    <tr>\n",
       "      <th>3</th>\n",
       "      <td>Basically there's a family where a little boy ...</td>\n",
       "      <td>negative</td>\n",
       "    </tr>\n",
       "    <tr>\n",
       "      <th>4</th>\n",
       "      <td>Petter Mattei's \"Love in the Time of Money\" is...</td>\n",
       "      <td>positive</td>\n",
       "    </tr>\n",
       "    <tr>\n",
       "      <th>...</th>\n",
       "      <td>...</td>\n",
       "      <td>...</td>\n",
       "    </tr>\n",
       "    <tr>\n",
       "      <th>49995</th>\n",
       "      <td>I thought this movie did a down right good job...</td>\n",
       "      <td>positive</td>\n",
       "    </tr>\n",
       "    <tr>\n",
       "      <th>49996</th>\n",
       "      <td>Bad plot, bad dialogue, bad acting, idiotic di...</td>\n",
       "      <td>negative</td>\n",
       "    </tr>\n",
       "    <tr>\n",
       "      <th>49997</th>\n",
       "      <td>I am a Catholic taught in parochial elementary...</td>\n",
       "      <td>negative</td>\n",
       "    </tr>\n",
       "    <tr>\n",
       "      <th>49998</th>\n",
       "      <td>I'm going to have to disagree with the previou...</td>\n",
       "      <td>negative</td>\n",
       "    </tr>\n",
       "    <tr>\n",
       "      <th>49999</th>\n",
       "      <td>No one expects the Star Trek movies to be high...</td>\n",
       "      <td>negative</td>\n",
       "    </tr>\n",
       "  </tbody>\n",
       "</table>\n",
       "<p>50000 rows × 2 columns</p>\n",
       "</div>"
      ],
      "text/plain": [
       "                                                  review sentiment\n",
       "0      One of the other reviewers has mentioned that ...  positive\n",
       "1      A wonderful little production. <br /><br />The...  positive\n",
       "2      I thought this was a wonderful way to spend ti...  positive\n",
       "3      Basically there's a family where a little boy ...  negative\n",
       "4      Petter Mattei's \"Love in the Time of Money\" is...  positive\n",
       "...                                                  ...       ...\n",
       "49995  I thought this movie did a down right good job...  positive\n",
       "49996  Bad plot, bad dialogue, bad acting, idiotic di...  negative\n",
       "49997  I am a Catholic taught in parochial elementary...  negative\n",
       "49998  I'm going to have to disagree with the previou...  negative\n",
       "49999  No one expects the Star Trek movies to be high...  negative\n",
       "\n",
       "[50000 rows x 2 columns]"
      ]
     },
     "execution_count": 1,
     "metadata": {},
     "output_type": "execute_result"
    }
   ],
   "source": [
    "import pandas as pd\n",
    "\n",
    "data_file = 'data/IMDB Dataset.csv'\n",
    "df_raw = pd.read_csv(data_file)\n",
    "df_raw"
   ]
  },
  {
   "cell_type": "code",
   "execution_count": 2,
   "id": "f673f856",
   "metadata": {},
   "outputs": [
    {
     "data": {
      "image/png": "[encoded data removed]",
      "text/plain": [
       "<Figure size 640x480 with 1 Axes>"
      ]
     },
     "metadata": {},
     "output_type": "display_data"
    }
   ],
   "source": [
    "import matplotlib.pyplot as plt\n",
    "\n",
    "fig, ax = plt.subplots()\n",
    "ax.hist(df_raw.sentiment)\n",
    "fig.tight_layout()"
   ]
  },
  {
   "cell_type": "code",
   "execution_count": 3,
   "id": "c0c057df",
   "metadata": {},
   "outputs": [
    {
     "data": {
      "text/html": [
       "<div>\n",
       "<style scoped>\n",
       "    .dataframe tbody tr th:only-of-type {\n",
       "        vertical-align: middle;\n",
       "    }\n",
       "\n",
       "    .dataframe tbody tr th {\n",
       "        vertical-align: top;\n",
       "    }\n",
       "\n",
       "    .dataframe thead th {\n",
       "        text-align: right;\n",
       "    }\n",
       "</style>\n",
       "<table border=\"1\" class=\"dataframe\">\n",
       "  <thead>\n",
       "    <tr style=\"text-align: right;\">\n",
       "      <th></th>\n",
       "      <th>x</th>\n",
       "      <th>y</th>\n",
       "    </tr>\n",
       "  </thead>\n",
       "  <tbody>\n",
       "    <tr>\n",
       "      <th>0</th>\n",
       "      <td>One of the other reviewers has mentioned that ...</td>\n",
       "      <td>1</td>\n",
       "    </tr>\n",
       "    <tr>\n",
       "      <th>1</th>\n",
       "      <td>A wonderful little production. &lt;br /&gt;&lt;br /&gt;The...</td>\n",
       "      <td>1</td>\n",
       "    </tr>\n",
       "    <tr>\n",
       "      <th>2</th>\n",
       "      <td>I thought this was a wonderful way to spend ti...</td>\n",
       "      <td>1</td>\n",
       "    </tr>\n",
       "    <tr>\n",
       "      <th>3</th>\n",
       "      <td>Basically there's a family where a little boy ...</td>\n",
       "      <td>0</td>\n",
       "    </tr>\n",
       "    <tr>\n",
       "      <th>4</th>\n",
       "      <td>Petter Mattei's \"Love in the Time of Money\" is...</td>\n",
       "      <td>1</td>\n",
       "    </tr>\n",
       "    <tr>\n",
       "      <th>...</th>\n",
       "      <td>...</td>\n",
       "      <td>...</td>\n",
       "    </tr>\n",
       "    <tr>\n",
       "      <th>49995</th>\n",
       "      <td>I thought this movie did a down right good job...</td>\n",
       "      <td>1</td>\n",
       "    </tr>\n",
       "    <tr>\n",
       "      <th>49996</th>\n",
       "      <td>Bad plot, bad dialogue, bad acting, idiotic di...</td>\n",
       "      <td>0</td>\n",
       "    </tr>\n",
       "    <tr>\n",
       "      <th>49997</th>\n",
       "      <td>I am a Catholic taught in parochial elementary...</td>\n",
       "      <td>0</td>\n",
       "    </tr>\n",
       "    <tr>\n",
       "      <th>49998</th>\n",
       "      <td>I'm going to have to disagree with the previou...</td>\n",
       "      <td>0</td>\n",
       "    </tr>\n",
       "    <tr>\n",
       "      <th>49999</th>\n",
       "      <td>No one expects the Star Trek movies to be high...</td>\n",
       "      <td>0</td>\n",
       "    </tr>\n",
       "  </tbody>\n",
       "</table>\n",
       "<p>50000 rows × 2 columns</p>\n",
       "</div>"
      ],
      "text/plain": [
       "                                                       x  y\n",
       "0      One of the other reviewers has mentioned that ...  1\n",
       "1      A wonderful little production. <br /><br />The...  1\n",
       "2      I thought this was a wonderful way to spend ti...  1\n",
       "3      Basically there's a family where a little boy ...  0\n",
       "4      Petter Mattei's \"Love in the Time of Money\" is...  1\n",
       "...                                                  ... ..\n",
       "49995  I thought this movie did a down right good job...  1\n",
       "49996  Bad plot, bad dialogue, bad acting, idiotic di...  0\n",
       "49997  I am a Catholic taught in parochial elementary...  0\n",
       "49998  I'm going to have to disagree with the previou...  0\n",
       "49999  No one expects the Star Trek movies to be high...  0\n",
       "\n",
       "[50000 rows x 2 columns]"
      ]
     },
     "execution_count": 3,
     "metadata": {},
     "output_type": "execute_result"
    }
   ],
   "source": [
    "df_formatted = pd.DataFrame()\n",
    "df_formatted['x'] = df_raw.review\n",
    "df_formatted['y'] = (df_raw.sentiment == 'positive').astype(int)\n",
    "df_formatted"
   ]
  },
  {
   "cell_type": "code",
   "execution_count": 4,
   "id": "932c5e7f",
   "metadata": {},
   "outputs": [
    {
     "name": "stdout",
     "output_type": "stream",
     "text": [
      "Train: (25000, 2)\n",
      "Test: (25000, 2)\n"
     ]
    }
   ],
   "source": [
    "from sklearn.model_selection import train_test_split\n",
    "\n",
    "df_train, df_test = train_test_split(df_formatted, test_size=0.5, random_state=123, stratify=df_formatted.y)\n",
    "print(f'Train: {df_train.shape}')\n",
    "print(f'Test: {df_test.shape}')"
   ]
  },
  {
   "cell_type": "code",
   "execution_count": 5,
   "id": "ada5f02d",
   "metadata": {},
   "outputs": [
    {
     "data": {
      "text/plain": [
       "<25000x5071055 sparse matrix of type '<class 'numpy.int64'>'\n",
       "\twith 15042165 stored elements in Compressed Sparse Row format>"
      ]
     },
     "execution_count": 5,
     "metadata": {},
     "output_type": "execute_result"
    }
   ],
   "source": [
    "from sklearn.feature_extraction.text import CountVectorizer\n",
    "\n",
    "cv_params = {\n",
    "    'ngram_range': (1, 3),\n",
    "    'token_pattern': r'\\w+',\n",
    "}\n",
    "\n",
    "cv = CountVectorizer(**cv_params)\n",
    "dtm = cv.fit_transform(df_train.x)\n",
    "dtm"
   ]
  },
  {
   "cell_type": "code",
   "execution_count": 6,
   "id": "0c7d2255",
   "metadata": {},
   "outputs": [
    {
     "name": "stdout",
     "output_type": "stream",
     "text": [
      "Classes: [0 1]\n",
      "Log probs shape: (2, 5071055)\n",
      "Log probs: [[-11.16970657 -15.35429801 -15.75976312 ... -16.4529103  -16.4529103\n",
      "  -16.4529103 ]\n",
      " [-12.68234324 -15.7733857  -16.46653288 ... -15.7733857  -15.7733857\n",
      "  -15.7733857 ]]\n"
     ]
    }
   ],
   "source": [
    "from sklearn.naive_bayes import MultinomialNB\n",
    "\n",
    "nb = MultinomialNB()\n",
    "nb.fit(dtm, df_train.y)\n",
    "print(f'Classes: {nb.classes_}')\n",
    "print(f'Log probs shape: {nb.feature_log_prob_.shape}')\n",
    "print(f'Log probs: {nb.feature_log_prob_}')"
   ]
  },
  {
   "cell_type": "code",
   "execution_count": 7,
   "id": "9540ece7",
   "metadata": {},
   "outputs": [
    {
     "data": {
      "text/plain": [
       "(5071055,)"
      ]
     },
     "execution_count": 7,
     "metadata": {},
     "output_type": "execute_result"
    }
   ],
   "source": [
    "log_probs = nb.feature_log_prob_[0] - nb.feature_log_prob_[1]\n",
    "log_probs.shape"
   ]
  },
  {
   "cell_type": "code",
   "execution_count": 8,
   "id": "9959be41",
   "metadata": {},
   "outputs": [
    {
     "name": "stdout",
     "output_type": "stream",
     "text": [
      "Vocab lenght: 5071055\n",
      "Vocab slice: {'this': 4414576, 'picture': 3277461, 'hit': 2031312, 'the': 4175157, 'movie': 2791444}\n"
     ]
    }
   ],
   "source": [
    "from itertools import islice\n",
    "\n",
    "vocab = cv.vocabulary_\n",
    "print(f'Vocab lenght: {len(vocab)}')\n",
    "print(f'Vocab slice: {dict(islice(vocab.items(), 5))}')"
   ]
  },
  {
   "cell_type": "code",
   "execution_count": 9,
   "id": "56601821",
   "metadata": {},
   "outputs": [
    {
     "name": "stdout",
     "output_type": "stream",
     "text": [
      "Train probs shape: (25000, 5071055)\n",
      "Test probs shape: (25000, 5071055)\n"
     ]
    }
   ],
   "source": [
    "binary_cv = CountVectorizer(binary=True, vocabulary=vocab, **cv_params)\n",
    "binary_dtm_train = binary_cv.fit_transform(df_train.x)\n",
    "binary_dtm_test = binary_cv.transform(df_test.x)\n",
    "probs_train = binary_dtm_train.multiply(log_probs)\n",
    "probs_test = binary_dtm_test.multiply(log_probs)\n",
    "print(f'Train probs shape: {probs_train.shape}')\n",
    "print(f'Test probs shape: {probs_test.shape}')"
   ]
  },
  {
   "cell_type": "code",
   "execution_count": 10,
   "id": "c7e827f7",
   "metadata": {},
   "outputs": [],
   "source": [
    "from sklearn.preprocessing import MaxAbsScaler\n",
    "\n",
    "scaler = MaxAbsScaler()\n",
    "scaled_probs_train = scaler.fit_transform(probs_train)\n",
    "scaled_probs_test = scaler.transform(probs_test)"
   ]
  },
  {
   "cell_type": "code",
   "execution_count": 11,
   "id": "3e6a5bc2",
   "metadata": {},
   "outputs": [
    {
     "name": "stdout",
     "output_type": "stream",
     "text": [
      "SVM score: 0.90404\n"
     ]
    }
   ],
   "source": [
    "from sklearn.svm import LinearSVC\n",
    "\n",
    "svm = LinearSVC(max_iter=10000)\n",
    "svm.fit(scaled_probs_train, df_train.y)\n",
    "svm_score = svm.score(scaled_probs_test, df_test.y)\n",
    "print(f'SVM score: {svm_score}')"
   ]
  },
  {
   "cell_type": "code",
   "execution_count": 12,
   "id": "6203102d",
   "metadata": {},
   "outputs": [
    {
     "name": "stdout",
     "output_type": "stream",
     "text": [
      "LR score: 0.90556\n"
     ]
    }
   ],
   "source": [
    "from sklearn.linear_model import LogisticRegression\n",
    "\n",
    "lr = LogisticRegression(solver='saga', max_iter=10000)\n",
    "lr.fit(scaled_probs_train, df_train.y)\n",
    "lr_score = lr.score(scaled_probs_test, df_test.y)\n",
    "print(f'LR score: {lr_score}')"
   ]
  },
  {
   "cell_type": "markdown",
   "id": "8de0414a",
   "metadata": {},
   "source": [
    "# Ktrain"
   ]
  },
  {
   "cell_type": "code",
   "execution_count": 13,
   "id": "a5fe69e3",
   "metadata": {},
   "outputs": [
    {
     "name": "stdout",
     "output_type": "stream",
     "text": [
      "fasttext: a fastText-like model [http://arxiv.org/pdf/1607.01759.pdf]\n",
      "logreg: logistic regression using a trainable Embedding layer\n",
      "nbsvm: NBSVM model [http://www.aclweb.org/anthology/P12-2018]\n",
      "bigru: Bidirectional GRU with pretrained fasttext word vectors [https://fasttext.cc/docs/en/crawl-vectors.html]\n",
      "standard_gru: simple 2-layer GRU with randomly initialized embeddings\n",
      "bert: Bidirectional Encoder Representations from Transformers (BERT) from keras_bert [https://arxiv.org/abs/1810.04805]\n",
      "distilbert: distilled, smaller, and faster BERT from Hugging Face transformers [https://arxiv.org/abs/1910.01108]\n"
     ]
    }
   ],
   "source": [
    "from ktrain import text as kt\n",
    "\n",
    "kt.print_text_classifiers()"
   ]
  },
  {
   "cell_type": "code",
   "execution_count": 14,
   "id": "471de3ad",
   "metadata": {},
   "outputs": [
    {
     "data": {
      "text/html": [
       "<div>\n",
       "<style scoped>\n",
       "    .dataframe tbody tr th:only-of-type {\n",
       "        vertical-align: middle;\n",
       "    }\n",
       "\n",
       "    .dataframe tbody tr th {\n",
       "        vertical-align: top;\n",
       "    }\n",
       "\n",
       "    .dataframe thead th {\n",
       "        text-align: right;\n",
       "    }\n",
       "</style>\n",
       "<table border=\"1\" class=\"dataframe\">\n",
       "  <thead>\n",
       "    <tr style=\"text-align: right;\">\n",
       "      <th></th>\n",
       "      <th>review</th>\n",
       "      <th>sentiment</th>\n",
       "    </tr>\n",
       "  </thead>\n",
       "  <tbody>\n",
       "    <tr>\n",
       "      <th>0</th>\n",
       "      <td>One of the other reviewers has mentioned that ...</td>\n",
       "      <td>positive</td>\n",
       "    </tr>\n",
       "    <tr>\n",
       "      <th>1</th>\n",
       "      <td>A wonderful little production. &lt;br /&gt;&lt;br /&gt;The...</td>\n",
       "      <td>positive</td>\n",
       "    </tr>\n",
       "    <tr>\n",
       "      <th>2</th>\n",
       "      <td>I thought this was a wonderful way to spend ti...</td>\n",
       "      <td>positive</td>\n",
       "    </tr>\n",
       "    <tr>\n",
       "      <th>3</th>\n",
       "      <td>Basically there's a family where a little boy ...</td>\n",
       "      <td>negative</td>\n",
       "    </tr>\n",
       "    <tr>\n",
       "      <th>4</th>\n",
       "      <td>Petter Mattei's \"Love in the Time of Money\" is...</td>\n",
       "      <td>positive</td>\n",
       "    </tr>\n",
       "    <tr>\n",
       "      <th>...</th>\n",
       "      <td>...</td>\n",
       "      <td>...</td>\n",
       "    </tr>\n",
       "    <tr>\n",
       "      <th>49995</th>\n",
       "      <td>I thought this movie did a down right good job...</td>\n",
       "      <td>positive</td>\n",
       "    </tr>\n",
       "    <tr>\n",
       "      <th>49996</th>\n",
       "      <td>Bad plot, bad dialogue, bad acting, idiotic di...</td>\n",
       "      <td>negative</td>\n",
       "    </tr>\n",
       "    <tr>\n",
       "      <th>49997</th>\n",
       "      <td>I am a Catholic taught in parochial elementary...</td>\n",
       "      <td>negative</td>\n",
       "    </tr>\n",
       "    <tr>\n",
       "      <th>49998</th>\n",
       "      <td>I'm going to have to disagree with the previou...</td>\n",
       "      <td>negative</td>\n",
       "    </tr>\n",
       "    <tr>\n",
       "      <th>49999</th>\n",
       "      <td>No one expects the Star Trek movies to be high...</td>\n",
       "      <td>negative</td>\n",
       "    </tr>\n",
       "  </tbody>\n",
       "</table>\n",
       "<p>50000 rows × 2 columns</p>\n",
       "</div>"
      ],
      "text/plain": [
       "                                                  review sentiment\n",
       "0      One of the other reviewers has mentioned that ...  positive\n",
       "1      A wonderful little production. <br /><br />The...  positive\n",
       "2      I thought this was a wonderful way to spend ti...  positive\n",
       "3      Basically there's a family where a little boy ...  negative\n",
       "4      Petter Mattei's \"Love in the Time of Money\" is...  positive\n",
       "...                                                  ...       ...\n",
       "49995  I thought this movie did a down right good job...  positive\n",
       "49996  Bad plot, bad dialogue, bad acting, idiotic di...  negative\n",
       "49997  I am a Catholic taught in parochial elementary...  negative\n",
       "49998  I'm going to have to disagree with the previou...  negative\n",
       "49999  No one expects the Star Trek movies to be high...  negative\n",
       "\n",
       "[50000 rows x 2 columns]"
      ]
     },
     "execution_count": 14,
     "metadata": {},
     "output_type": "execute_result"
    }
   ],
   "source": [
    "df_raw"
   ]
  },
  {
   "cell_type": "code",
   "execution_count": 17,
   "id": "a803d35d",
   "metadata": {},
   "outputs": [
    {
     "name": "stdout",
     "output_type": "stream",
     "text": [
      "['negative', 'positive']\n",
      "       negative  positive\n",
      "12942       0.0       1.0\n",
      "5673        0.0       1.0\n",
      "28198       1.0       0.0\n",
      "27926       1.0       0.0\n",
      "15431       0.0       1.0\n",
      "['negative', 'positive']\n",
      "       negative  positive\n",
      "11872       1.0       0.0\n",
      "40828       0.0       1.0\n",
      "36400       0.0       1.0\n",
      "5166        1.0       0.0\n",
      "30273       1.0       0.0\n",
      "language: en\n",
      "Word Counts: 91146\n",
      "Nrows: 25000\n",
      "25000 train sequences\n",
      "train sequence lengths:\n",
      "\tmean : 229\n",
      "\t95percentile : 582\n",
      "\t99percentile : 892\n",
      "Adding 3-gram features\n",
      "max_features changed to 4646862 with addition of ngrams\n",
      "Average train sequence length with ngrams: 683\n",
      "train (w/ngrams) sequence lengths:\n",
      "\tmean : 683\n",
      "\t95percentile : 1743\n",
      "\t99percentile : 2673\n",
      "x_train shape: (25000,400)\n",
      "y_train shape: (25000, 2)\n",
      "Is Multi-Label? False\n",
      "25000 test sequences\n",
      "test sequence lengths:\n",
      "\tmean : 227\n",
      "\t95percentile : 577\n",
      "\t99percentile : 881\n",
      "Average test sequence length with ngrams: 530\n",
      "test (w/ngrams) sequence lengths:\n",
      "\tmean : 530\n",
      "\t95percentile : 1328\n",
      "\t99percentile : 1977\n",
      "x_test shape: (25000,400)\n",
      "y_test shape: (25000, 2)\n"
     ]
    }
   ],
   "source": [
    "trn, val, preproc = kt.texts_from_df(df_raw, 'review', ['sentiment'], ngram_range=3, val_pct=0.5, random_state=123)"
   ]
  },
  {
   "cell_type": "code",
   "execution_count": 26,
   "id": "5e263bcf",
   "metadata": {},
   "outputs": [
    {
     "name": "stdout",
     "output_type": "stream",
     "text": [
      "Types:\n",
      "{'type(preproc)': <class 'ktrain.text.preprocessor.StandardTextPreprocessor'>,\n",
      " 'type(trn)': <class 'tuple'>,\n",
      " 'type(val)': <class 'tuple'>}\n",
      "Lengths:\n",
      "{'len(trn)': 2, 'len(val)': 2}\n",
      "SybTypes: \n",
      "{'type(trn[0])': <class 'numpy.ndarray'>,\n",
      " 'type(trn[1])': <class 'numpy.ndarray'>,\n",
      " 'type(val[0])': <class 'numpy.ndarray'>,\n",
      " 'type(val[1])': <class 'numpy.ndarray'>}\n",
      "Contents: \n",
      "{'trn[0]': array([[      0,       0,       0, ..., 3666715, 1186664, 2103625],\n",
      "       [      0,       0,       0, ..., 3691366, 3508602,  299609],\n",
      "       [2768008, 3595178, 4160487, ..., 2167123,  768848,  933285],\n",
      "       ...,\n",
      "       [      0,       0,       0, ...,   35861, 2343685, 2369725],\n",
      "       [      0,       0,       0, ..., 1379769,  299961, 1770039],\n",
      "       [2252757, 2843810,  994269, ..., 3644354, 3082648, 3091250]]),\n",
      " 'trn[1]': array([[0., 1.],\n",
      "       [0., 1.],\n",
      "       [1., 0.],\n",
      "       ...,\n",
      "       [0., 1.],\n",
      "       [0., 1.],\n",
      "       [1., 0.]], dtype=float32),\n",
      " 'val[0]': array([[      0,       0,       0, ..., 2334468,  388456, 3714010],\n",
      "       [2103433, 1840879, 3532723, ..., 4552780, 1377702, 2610584],\n",
      "       [ 134476, 3612848, 2802790, ..., 1059956,  910037, 4271269],\n",
      "       ...,\n",
      "       [      0,       0,       0, ...,  606856, 2580114, 4069245],\n",
      "       [   1317,    3159,      48, ..., 3201896, 4109094, 4539209],\n",
      "       [   1676,       5,      26, ...,  917512, 2912143, 4148807]]),\n",
      " 'val[1]': array([[1., 0.],\n",
      "       [0., 1.],\n",
      "       [0., 1.],\n",
      "       ...,\n",
      "       [0., 1.],\n",
      "       [0., 1.],\n",
      "       [0., 1.]], dtype=float32)}\n"
     ]
    }
   ],
   "source": [
    "from pprint import pprint\n",
    "\n",
    "print('Types:')\n",
    "pprint({\n",
    "    'type(trn)': type(trn),\n",
    "    'type(val)': type(val),\n",
    "    'type(preproc)': type(preproc),\n",
    "})\n",
    "\n",
    "print('Lengths:')\n",
    "pprint({\n",
    "    'len(trn)': len(trn),\n",
    "    'len(val)': len(val),\n",
    "})\n",
    "\n",
    "print('SybTypes: ')\n",
    "pprint({\n",
    "    'type(trn[0])': type(trn[0]),\n",
    "    'type(trn[1])': type(trn[1]),\n",
    "    'type(val[0])': type(val[0]),\n",
    "    'type(val[1])': type(val[1]),\n",
    "})\n",
    "\n",
    "print('Contents: ')\n",
    "pprint({\n",
    "    'trn[0]': trn[0],\n",
    "    'trn[1]': trn[1],\n",
    "    'val[0]': val[0],\n",
    "    'val[1]': val[1],\n",
    "})"
   ]
  },
  {
   "cell_type": "code",
   "execution_count": 27,
   "id": "ee925052",
   "metadata": {},
   "outputs": [
    {
     "name": "stdout",
     "output_type": "stream",
     "text": [
      "Is Multi-Label? False\n",
      "compiling word ID features...\n",
      "maxlen is 400\n",
      "building document-term matrix... this may take a few moments...\n",
      "rows: 1-10000\n",
      "rows: 10001-20000\n",
      "rows: 20001-25000\n",
      "computing log-count ratios...\n",
      "done.\n"
     ]
    },
    {
     "data": {
      "text/plain": [
       "keras.engine.functional.Functional"
      ]
     },
     "execution_count": 27,
     "metadata": {},
     "output_type": "execute_result"
    }
   ],
   "source": [
    "nbsvm_model = kt.text_classifier('nbsvm', trn, preproc)\n",
    "type(nbsvm_model)"
   ]
  },
  {
   "cell_type": "code",
   "execution_count": 33,
   "id": "e1e6b51b",
   "metadata": {},
   "outputs": [
    {
     "data": {
      "text/plain": [
       "ktrain.core.ArrayLearner"
      ]
     },
     "execution_count": 33,
     "metadata": {},
     "output_type": "execute_result"
    }
   ],
   "source": [
    "import ktrain\n",
    "\n",
    "nbsvm_learner = ktrain.get_learner(nbsvm_model, trn, val)\n",
    "type(nbsvm_learner)"
   ]
  },
  {
   "cell_type": "code",
   "execution_count": 31,
   "id": "9c1885ac",
   "metadata": {},
   "outputs": [
    {
     "name": "stdout",
     "output_type": "stream",
     "text": [
      "simulating training for different learning rates... this may take a few moments...\n",
      "Epoch 1/100\n",
      "782/782 [==============================] - 30s 37ms/step - loss: 0.6928 - accuracy: 0.5168\n",
      "Epoch 2/100\n",
      "782/782 [==============================] - 29s 37ms/step - loss: 0.6919 - accuracy: 0.5528\n",
      "Epoch 3/100\n",
      "782/782 [==============================] - 29s 37ms/step - loss: 0.6908 - accuracy: 0.5989\n",
      "Epoch 4/100\n",
      "782/782 [==============================] - 29s 37ms/step - loss: 0.6894 - accuracy: 0.6508\n",
      "Epoch 5/100\n",
      "782/782 [==============================] - 29s 38ms/step - loss: 0.6878 - accuracy: 0.7063\n",
      "Epoch 6/100\n",
      "782/782 [==============================] - 30s 38ms/step - loss: 0.6858 - accuracy: 0.7652\n",
      "Epoch 7/100\n",
      "782/782 [==============================] - 30s 38ms/step - loss: 0.6834 - accuracy: 0.8213\n",
      "Epoch 8/100\n",
      "782/782 [==============================] - 31s 40ms/step - loss: 0.6805 - accuracy: 0.8700\n",
      "Epoch 9/100\n",
      "782/782 [==============================] - 31s 40ms/step - loss: 0.6771 - accuracy: 0.9101\n",
      "Epoch 10/100\n",
      "782/782 [==============================] - 31s 39ms/step - loss: 0.6730 - accuracy: 0.9398\n",
      "Epoch 11/100\n",
      "782/782 [==============================] - 33s 43ms/step - loss: 0.6682 - accuracy: 0.9590\n",
      "Epoch 12/100\n",
      "782/782 [==============================] - 32s 42ms/step - loss: 0.6624 - accuracy: 0.9710\n",
      "Epoch 13/100\n",
      "782/782 [==============================] - 32s 41ms/step - loss: 0.6555 - accuracy: 0.9776\n",
      "Epoch 14/100\n",
      "782/782 [==============================] - 32s 41ms/step - loss: 0.6473 - accuracy: 0.9815\n",
      "Epoch 15/100\n",
      "782/782 [==============================] - 32s 41ms/step - loss: 0.6376 - accuracy: 0.9838\n",
      "Epoch 16/100\n",
      "782/782 [==============================] - 32s 41ms/step - loss: 0.6262 - accuracy: 0.9853\n",
      "Epoch 17/100\n",
      "782/782 [==============================] - 32s 41ms/step - loss: 0.6129 - accuracy: 0.9865\n",
      "Epoch 18/100\n",
      "782/782 [==============================] - 32s 41ms/step - loss: 0.5972 - accuracy: 0.9874\n",
      "Epoch 19/100\n",
      "782/782 [==============================] - 32s 41ms/step - loss: 0.5791 - accuracy: 0.9878\n",
      "Epoch 20/100\n",
      "782/782 [==============================] - 26s 34ms/step - loss: 0.5582 - accuracy: 0.9882\n",
      "Epoch 21/100\n",
      "782/782 [==============================] - 25s 32ms/step - loss: 0.5344 - accuracy: 0.9889\n",
      "Epoch 22/100\n",
      "782/782 [==============================] - 26s 33ms/step - loss: 0.5074 - accuracy: 0.9894\n",
      "Epoch 23/100\n",
      "782/782 [==============================] - 28s 35ms/step - loss: 0.4773 - accuracy: 0.9896\n",
      "Epoch 24/100\n",
      "782/782 [==============================] - 30s 39ms/step - loss: 0.4441 - accuracy: 0.9902\n",
      "Epoch 25/100\n",
      "782/782 [==============================] - 28s 35ms/step - loss: 0.4083 - accuracy: 0.9909\n",
      "Epoch 26/100\n",
      "782/782 [==============================] - 25s 32ms/step - loss: 0.3702 - accuracy: 0.9911\n",
      "Epoch 27/100\n",
      "782/782 [==============================] - 25s 32ms/step - loss: 0.3306 - accuracy: 0.9918\n",
      "Epoch 28/100\n",
      "782/782 [==============================] - 25s 32ms/step - loss: 0.2905 - accuracy: 0.9923\n",
      "Epoch 29/100\n",
      "782/782 [==============================] - 25s 32ms/step - loss: 0.2508 - accuracy: 0.9930\n",
      "Epoch 30/100\n",
      "782/782 [==============================] - 25s 32ms/step - loss: 0.2125 - accuracy: 0.9935\n",
      "Epoch 31/100\n",
      "782/782 [==============================] - 25s 33ms/step - loss: 0.1767 - accuracy: 0.9942\n",
      "Epoch 32/100\n",
      "782/782 [==============================] - 26s 34ms/step - loss: 0.1440 - accuracy: 0.9952\n",
      "Epoch 33/100\n",
      "782/782 [==============================] - 26s 33ms/step - loss: 0.1151 - accuracy: 0.9959\n",
      "Epoch 34/100\n",
      "782/782 [==============================] - 25s 32ms/step - loss: 0.0902 - accuracy: 0.9968\n",
      "Epoch 35/100\n",
      "782/782 [==============================] - 25s 32ms/step - loss: 0.0693 - accuracy: 0.9973\n",
      "Epoch 36/100\n",
      "782/782 [==============================] - 25s 32ms/step - loss: 0.0521 - accuracy: 0.9982\n",
      "Epoch 37/100\n",
      "782/782 [==============================] - 26s 33ms/step - loss: 0.0385 - accuracy: 0.9987\n",
      "Epoch 38/100\n",
      "782/782 [==============================] - 27s 34ms/step - loss: 0.0279 - accuracy: 0.9991\n",
      "Epoch 39/100\n",
      "782/782 [==============================] - 27s 34ms/step - loss: 0.0198 - accuracy: 0.9995\n",
      "Epoch 40/100\n",
      "782/782 [==============================] - 25s 32ms/step - loss: 0.0138 - accuracy: 0.9998\n",
      "Epoch 41/100\n",
      "782/782 [==============================] - 25s 32ms/step - loss: 0.0094 - accuracy: 0.9998\n",
      "Epoch 42/100\n",
      "782/782 [==============================] - 33s 43ms/step - loss: 0.0063 - accuracy: 0.9999\n",
      "Epoch 43/100\n",
      "782/782 [==============================] - 29s 37ms/step - loss: 0.0041 - accuracy: 0.9999\n",
      "Epoch 44/100\n",
      "782/782 [==============================] - 29s 37ms/step - loss: 0.0027 - accuracy: 1.0000\n",
      "Epoch 45/100\n",
      "782/782 [==============================] - 29s 37ms/step - loss: 0.0017 - accuracy: 1.0000\n",
      "Epoch 46/100\n",
      "782/782 [==============================] - 29s 37ms/step - loss: 0.0010 - accuracy: 1.0000\n",
      "Epoch 47/100\n",
      "782/782 [==============================] - 29s 37ms/step - loss: 6.3761e-04 - accuracy: 1.0000\n",
      "Epoch 48/100\n",
      "782/782 [==============================] - 29s 37ms/step - loss: 3.8445e-04 - accuracy: 1.0000\n",
      "Epoch 49/100\n",
      "782/782 [==============================] - 29s 37ms/step - loss: 2.3254e-04 - accuracy: 1.0000\n",
      "Epoch 50/100\n",
      "782/782 [==============================] - 29s 37ms/step - loss: 1.4141e-04 - accuracy: 1.0000\n",
      "Epoch 51/100\n",
      "782/782 [==============================] - 29s 37ms/step - loss: 8.4705e-05 - accuracy: 1.0000\n",
      "Epoch 52/100\n",
      "782/782 [==============================] - 29s 37ms/step - loss: 5.0237e-05 - accuracy: 1.0000\n",
      "Epoch 53/100\n",
      "782/782 [==============================] - 30s 38ms/step - loss: 2.9830e-05 - accuracy: 1.0000\n",
      "Epoch 54/100\n",
      "782/782 [==============================] - 30s 38ms/step - loss: 1.7680e-05 - accuracy: 1.0000\n",
      "Epoch 55/100\n",
      "782/782 [==============================] - 30s 38ms/step - loss: 1.0586e-05 - accuracy: 1.0000\n",
      "Epoch 56/100\n",
      "782/782 [==============================] - 30s 38ms/step - loss: 6.2650e-06 - accuracy: 1.0000\n",
      "Epoch 57/100\n",
      "782/782 [==============================] - 30s 38ms/step - loss: 3.5456e-06 - accuracy: 1.0000\n",
      "Epoch 58/100\n",
      "782/782 [==============================] - 1s 730us/step - loss: 1.7896e-05 - accuracy: 1.0000\n",
      "\n",
      "\n",
      "done.\n",
      "Visually inspect loss plot and select learning rate associated with falling loss\n"
     ]
    },
    {
     "data": {
      "image/png": "[encoded data removed]",
      "text/plain": [
       "<Figure size 640x480 with 1 Axes>"
      ]
     },
     "metadata": {},
     "output_type": "display_data"
    }
   ],
   "source": [
    "nbsvm_learner.lr_find(show_plot=True, max_epochs=100)"
   ]
  },
  {
   "cell_type": "code",
   "execution_count": 35,
   "id": "61dbe401",
   "metadata": {},
   "outputs": [
    {
     "name": "stdout",
     "output_type": "stream",
     "text": [
      "reduce_on_plateau automatically enabled at patience=2\n",
      "\n",
      "\n",
      "begin training using triangular learning rate policy with max lr of 0.0001...\n",
      "Epoch 1/1024\n",
      "782/782 [==============================] - 31s 40ms/step - loss: 0.3406 - accuracy: 0.9870 - val_loss: 0.4020 - val_accuracy: 0.9084\n",
      "Epoch 2/1024\n",
      "782/782 [==============================] - 28s 36ms/step - loss: 0.2329 - accuracy: 0.9919 - val_loss: 0.3546 - val_accuracy: 0.9101\n",
      "Epoch 3/1024\n",
      "782/782 [==============================] - 31s 40ms/step - loss: 0.1677 - accuracy: 0.9942 - val_loss: 0.3230 - val_accuracy: 0.9121\n",
      "Epoch 4/1024\n",
      "782/782 [==============================] - 29s 38ms/step - loss: 0.1250 - accuracy: 0.9956 - val_loss: 0.3006 - val_accuracy: 0.9136\n",
      "Epoch 5/1024\n",
      "782/782 [==============================] - 29s 37ms/step - loss: 0.0951 - accuracy: 0.9969 - val_loss: 0.2833 - val_accuracy: 0.9145\n",
      "Epoch 6/1024\n",
      "782/782 [==============================] - 36s 46ms/step - loss: 0.0737 - accuracy: 0.9976 - val_loss: 0.2700 - val_accuracy: 0.9150\n",
      "Epoch 7/1024\n",
      "782/782 [==============================] - 34s 44ms/step - loss: 0.0578 - accuracy: 0.9983 - val_loss: 0.2591 - val_accuracy: 0.9168\n",
      "Epoch 8/1024\n",
      "782/782 [==============================] - 34s 44ms/step - loss: 0.0460 - accuracy: 0.9986 - val_loss: 0.2505 - val_accuracy: 0.9165\n",
      "Epoch 9/1024\n",
      "782/782 [==============================] - 38s 48ms/step - loss: 0.0368 - accuracy: 0.9989 - val_loss: 0.2431 - val_accuracy: 0.9175\n",
      "Epoch 10/1024\n",
      "782/782 [==============================] - 37s 47ms/step - loss: 0.0297 - accuracy: 0.9991 - val_loss: 0.2370 - val_accuracy: 0.9185\n",
      "Epoch 11/1024\n",
      "782/782 [==============================] - 38s 48ms/step - loss: 0.0241 - accuracy: 0.9993 - val_loss: 0.2317 - val_accuracy: 0.9182\n",
      "Epoch 12/1024\n",
      "782/782 [==============================] - 34s 43ms/step - loss: 0.0197 - accuracy: 0.9994 - val_loss: 0.2274 - val_accuracy: 0.9184\n",
      "Epoch 13/1024\n",
      "782/782 [==============================] - 41s 53ms/step - loss: 0.0162 - accuracy: 0.9994 - val_loss: 0.2237 - val_accuracy: 0.9188\n",
      "Epoch 14/1024\n",
      "782/782 [==============================] - 36s 46ms/step - loss: 0.0135 - accuracy: 0.9996 - val_loss: 0.2207 - val_accuracy: 0.9185\n",
      "Epoch 15/1024\n",
      "782/782 [==============================] - 37s 48ms/step - loss: 0.0112 - accuracy: 0.9998 - val_loss: 0.2182 - val_accuracy: 0.9186\n",
      "Epoch 16/1024\n",
      "782/782 [==============================] - 37s 47ms/step - loss: 0.0093 - accuracy: 0.9998 - val_loss: 0.2157 - val_accuracy: 0.9182\n",
      "Epoch 17/1024\n",
      "782/782 [==============================] - 38s 49ms/step - loss: 0.0079 - accuracy: 0.9999 - val_loss: 0.2136 - val_accuracy: 0.9187\n",
      "Epoch 18/1024\n",
      "782/782 [==============================] - 34s 43ms/step - loss: 0.0067 - accuracy: 0.9999 - val_loss: 0.2120 - val_accuracy: 0.9189\n",
      "Epoch 19/1024\n",
      "782/782 [==============================] - 34s 43ms/step - loss: 0.0057 - accuracy: 0.9999 - val_loss: 0.2106 - val_accuracy: 0.9192\n",
      "Epoch 20/1024\n",
      "782/782 [==============================] - 35s 44ms/step - loss: 0.0048 - accuracy: 0.9999 - val_loss: 0.2098 - val_accuracy: 0.9195\n",
      "Epoch 21/1024\n",
      "782/782 [==============================] - 35s 45ms/step - loss: 0.0041 - accuracy: 0.9999 - val_loss: 0.2088 - val_accuracy: 0.9194\n",
      "Epoch 22/1024\n",
      "782/782 [==============================] - 35s 45ms/step - loss: 0.0035 - accuracy: 0.9999 - val_loss: 0.2081 - val_accuracy: 0.9196\n",
      "Epoch 23/1024\n",
      "782/782 [==============================] - 33s 43ms/step - loss: 0.0031 - accuracy: 0.9999 - val_loss: 0.2075 - val_accuracy: 0.9191\n",
      "Epoch 24/1024\n",
      "782/782 [==============================] - 34s 43ms/step - loss: 0.0027 - accuracy: 1.0000 - val_loss: 0.2070 - val_accuracy: 0.9192\n",
      "Epoch 25/1024\n",
      "782/782 [==============================] - 33s 42ms/step - loss: 0.0023 - accuracy: 1.0000 - val_loss: 0.2069 - val_accuracy: 0.9190\n",
      "Epoch 26/1024\n",
      "782/782 [==============================] - 33s 42ms/step - loss: 0.0020 - accuracy: 1.0000 - val_loss: 0.2069 - val_accuracy: 0.9190\n",
      "Epoch 27/1024\n",
      "782/782 [==============================] - 31s 40ms/step - loss: 0.0018 - accuracy: 1.0000 - val_loss: 0.2068 - val_accuracy: 0.9191\n",
      "Epoch 28/1024\n",
      "782/782 [==============================] - 31s 40ms/step - loss: 0.0016 - accuracy: 1.0000 - val_loss: 0.2069 - val_accuracy: 0.9193\n",
      "Epoch 29/1024\n",
      "782/782 [==============================] - ETA: 0s - loss: 0.0014 - accuracy: 1.0000\n",
      "Epoch 00029: Reducing Max LR on Plateau: new max lr will be 5e-05 (if not early_stopping).\n",
      "782/782 [==============================] - 31s 40ms/step - loss: 0.0014 - accuracy: 1.0000 - val_loss: 0.2073 - val_accuracy: 0.9193\n",
      "Epoch 30/1024\n",
      "782/782 [==============================] - ETA: 0s - loss: 0.0012 - accuracy: 1.0000Restoring model weights from the end of the best epoch: 27.\n",
      "782/782 [==============================] - 32s 41ms/step - loss: 0.0012 - accuracy: 1.0000 - val_loss: 0.2077 - val_accuracy: 0.9190\n",
      "Epoch 30: early stopping\n",
      "Weights from best epoch have been loaded into model.\n"
     ]
    },
    {
     "data": {
      "text/plain": [
       "<keras.callbacks.History at 0x1c29c749180>"
      ]
     },
     "execution_count": 35,
     "metadata": {},
     "output_type": "execute_result"
    }
   ],
   "source": [
    "nbsvm_learner.autofit(10e-5, early_stopping=3)"
   ]
  },
  {
   "cell_type": "code",
   "execution_count": 36,
   "id": "44869e55",
   "metadata": {},
   "outputs": [
    {
     "name": "stdout",
     "output_type": "stream",
     "text": [
      "782/782 [==============================] - 1s 1ms/step\n",
      "              precision    recall  f1-score   support\n",
      "\n",
      "           0       0.93      0.90      0.92     12574\n",
      "           1       0.91      0.94      0.92     12426\n",
      "\n",
      "    accuracy                           0.92     25000\n",
      "   macro avg       0.92      0.92      0.92     25000\n",
      "weighted avg       0.92      0.92      0.92     25000\n",
      "\n"
     ]
    },
    {
     "data": {
      "text/plain": [
       "array([[11357,  1217],\n",
       "       [  806, 11620]], dtype=int64)"
      ]
     },
     "execution_count": 36,
     "metadata": {},
     "output_type": "execute_result"
    }
   ],
   "source": [
    "nbsvm_learner.evaluate(print_report=True)"
   ]
  }
 ],
 "metadata": {
  "kernelspec": {
   "display_name": "JupyterTests310",
   "language": "python",
   "name": "jupytertests310"
  },
  "language_info": {
   "codemirror_mode": {
    "name": "ipython",
    "version": 3
   },
   "file_extension": ".py",
   "mimetype": "text/x-python",
   "name": "python",
   "nbconvert_exporter": "python",
   "pygments_lexer": "ipython3",
   "version": "3.10.6"
  }
 },
 "nbformat": 4,
 "nbformat_minor": 5
}
