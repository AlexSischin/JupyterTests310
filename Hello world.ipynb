{
 "cells": [
  {
   "cell_type": "code",
   "execution_count": 1,
   "id": "d3876193",
   "metadata": {},
   "outputs": [
    {
     "name": "stdout",
     "output_type": "stream",
     "text": [
      "Hello, C:\\Projects\\JupyterTests310\\venv\\Scripts\\python.exe 3.10.6 (tags/v3.10.6:9c7b4bd, Aug  1 2022, 21:53:49) [MSC v.1932 64 bit (AMD64)]\n"
     ]
    }
   ],
   "source": [
    "import sys\n",
    "print(f'Hello, {sys.executable} {sys.version}')"
   ]
  }
 ],
 "metadata": {
  "kernelspec": {
   "display_name": "JupyterTests310",
   "language": "python",
   "name": "jupytertests310"
  },
  "language_info": {
   "codemirror_mode": {
    "name": "ipython",
    "version": 3
   },
   "file_extension": ".py",
   "mimetype": "text/x-python",
   "name": "python",
   "nbconvert_exporter": "python",
   "pygments_lexer": "ipython3",
   "version": "3.10.6"
  }
 },
 "nbformat": 4,
 "nbformat_minor": 5
}
