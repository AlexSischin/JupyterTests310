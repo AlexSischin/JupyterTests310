{
 "cells": [
  {
   "cell_type": "markdown",
   "id": "ee8935d2",
   "metadata": {},
   "source": [
    "IMDB sentiment analysis dataset.\n",
    "\n",
    "https://www.kaggle.com/datasets/lakshmi25npathi/imdb-dataset-of-50k-movie-reviews\n",
    "\n",
    "[1] Maas, A. L., Daly, R. E., Pham, P. T., Huang, D., Ng, A. Y., & Potts, C. (2011, June). Learning Word Vectors for Sentiment Analysis. In Proceedings of the 49th Annual Meeting of the Association for Computational Linguistics: Human Language Technologies (pp. 142-150). [Link](http://www.aclweb.org/anthology/P11-1015)"
   ]
  },
  {
   "cell_type": "code",
   "execution_count": 1,
   "id": "0309b163",
   "metadata": {},
   "outputs": [
    {
     "data": {
      "text/html": [
       "<div>\n",
       "<style scoped>\n",
       "    .dataframe tbody tr th:only-of-type {\n",
       "        vertical-align: middle;\n",
       "    }\n",
       "\n",
       "    .dataframe tbody tr th {\n",
       "        vertical-align: top;\n",
       "    }\n",
       "\n",
       "    .dataframe thead th {\n",
       "        text-align: right;\n",
       "    }\n",
       "</style>\n",
       "<table border=\"1\" class=\"dataframe\">\n",
       "  <thead>\n",
       "    <tr style=\"text-align: right;\">\n",
       "      <th></th>\n",
       "      <th>review</th>\n",
       "      <th>sentiment</th>\n",
       "    </tr>\n",
       "  </thead>\n",
       "  <tbody>\n",
       "    <tr>\n",
       "      <th>0</th>\n",
       "      <td>One of the other reviewers has mentioned that ...</td>\n",
       "      <td>positive</td>\n",
       "    </tr>\n",
       "    <tr>\n",
       "      <th>1</th>\n",
       "      <td>A wonderful little production. &lt;br /&gt;&lt;br /&gt;The...</td>\n",
       "      <td>positive</td>\n",
       "    </tr>\n",
       "    <tr>\n",
       "      <th>2</th>\n",
       "      <td>I thought this was a wonderful way to spend ti...</td>\n",
       "      <td>positive</td>\n",
       "    </tr>\n",
       "    <tr>\n",
       "      <th>3</th>\n",
       "      <td>Basically there's a family where a little boy ...</td>\n",
       "      <td>negative</td>\n",
       "    </tr>\n",
       "    <tr>\n",
       "      <th>4</th>\n",
       "      <td>Petter Mattei's \"Love in the Time of Money\" is...</td>\n",
       "      <td>positive</td>\n",
       "    </tr>\n",
       "    <tr>\n",
       "      <th>...</th>\n",
       "      <td>...</td>\n",
       "      <td>...</td>\n",
       "    </tr>\n",
       "    <tr>\n",
       "      <th>49995</th>\n",
       "      <td>I thought this movie did a down right good job...</td>\n",
       "      <td>positive</td>\n",
       "    </tr>\n",
       "    <tr>\n",
       "      <th>49996</th>\n",
       "      <td>Bad plot, bad dialogue, bad acting, idiotic di...</td>\n",
       "      <td>negative</td>\n",
       "    </tr>\n",
       "    <tr>\n",
       "      <th>49997</th>\n",
       "      <td>I am a Catholic taught in parochial elementary...</td>\n",
       "      <td>negative</td>\n",
       "    </tr>\n",
       "    <tr>\n",
       "      <th>49998</th>\n",
       "      <td>I'm going to have to disagree with the previou...</td>\n",
       "      <td>negative</td>\n",
       "    </tr>\n",
       "    <tr>\n",
       "      <th>49999</th>\n",
       "      <td>No one expects the Star Trek movies to be high...</td>\n",
       "      <td>negative</td>\n",
       "    </tr>\n",
       "  </tbody>\n",
       "</table>\n",
       "<p>50000 rows × 2 columns</p>\n",
       "</div>"
      ],
      "text/plain": [
       "                                                  review sentiment\n",
       "0      One of the other reviewers has mentioned that ...  positive\n",
       "1      A wonderful little production. <br /><br />The...  positive\n",
       "2      I thought this was a wonderful way to spend ti...  positive\n",
       "3      Basically there's a family where a little boy ...  negative\n",
       "4      Petter Mattei's \"Love in the Time of Money\" is...  positive\n",
       "...                                                  ...       ...\n",
       "49995  I thought this movie did a down right good job...  positive\n",
       "49996  Bad plot, bad dialogue, bad acting, idiotic di...  negative\n",
       "49997  I am a Catholic taught in parochial elementary...  negative\n",
       "49998  I'm going to have to disagree with the previou...  negative\n",
       "49999  No one expects the Star Trek movies to be high...  negative\n",
       "\n",
       "[50000 rows x 2 columns]"
      ]
     },
     "execution_count": 1,
     "metadata": {},
     "output_type": "execute_result"
    }
   ],
   "source": [
    "import pandas as pd\n",
    "\n",
    "data_file = 'data/IMDB Dataset.csv'\n",
    "df_raw = pd.read_csv(data_file)\n",
    "df_raw"
   ]
  },
  {
   "cell_type": "code",
   "execution_count": 2,
   "id": "f673f856",
   "metadata": {},
   "outputs": [
    {
     "data": {
      "image/png": "[encoded data removed]",
      "text/plain": [
       "<Figure size 640x480 with 1 Axes>"
      ]
     },
     "metadata": {},
     "output_type": "display_data"
    }
   ],
   "source": [
    "import matplotlib.pyplot as plt\n",
    "\n",
    "fig, ax = plt.subplots()\n",
    "ax.hist(df_raw.sentiment)\n",
    "fig.tight_layout()"
   ]
  },
  {
   "cell_type": "code",
   "execution_count": 3,
   "id": "c0c057df",
   "metadata": {},
   "outputs": [
    {
     "data": {
      "text/html": [
       "<div>\n",
       "<style scoped>\n",
       "    .dataframe tbody tr th:only-of-type {\n",
       "        vertical-align: middle;\n",
       "    }\n",
       "\n",
       "    .dataframe tbody tr th {\n",
       "        vertical-align: top;\n",
       "    }\n",
       "\n",
       "    .dataframe thead th {\n",
       "        text-align: right;\n",
       "    }\n",
       "</style>\n",
       "<table border=\"1\" class=\"dataframe\">\n",
       "  <thead>\n",
       "    <tr style=\"text-align: right;\">\n",
       "      <th></th>\n",
       "      <th>x</th>\n",
       "      <th>y</th>\n",
       "    </tr>\n",
       "  </thead>\n",
       "  <tbody>\n",
       "    <tr>\n",
       "      <th>0</th>\n",
       "      <td>One of the other reviewers has mentioned that ...</td>\n",
       "      <td>1</td>\n",
       "    </tr>\n",
       "    <tr>\n",
       "      <th>1</th>\n",
       "      <td>A wonderful little production. &lt;br /&gt;&lt;br /&gt;The...</td>\n",
       "      <td>1</td>\n",
       "    </tr>\n",
       "    <tr>\n",
       "      <th>2</th>\n",
       "      <td>I thought this was a wonderful way to spend ti...</td>\n",
       "      <td>1</td>\n",
       "    </tr>\n",
       "    <tr>\n",
       "      <th>3</th>\n",
       "      <td>Basically there's a family where a little boy ...</td>\n",
       "      <td>0</td>\n",
       "    </tr>\n",
       "    <tr>\n",
       "      <th>4</th>\n",
       "      <td>Petter Mattei's \"Love in the Time of Money\" is...</td>\n",
       "      <td>1</td>\n",
       "    </tr>\n",
       "    <tr>\n",
       "      <th>...</th>\n",
       "      <td>...</td>\n",
       "      <td>...</td>\n",
       "    </tr>\n",
       "    <tr>\n",
       "      <th>49995</th>\n",
       "      <td>I thought this movie did a down right good job...</td>\n",
       "      <td>1</td>\n",
       "    </tr>\n",
       "    <tr>\n",
       "      <th>49996</th>\n",
       "      <td>Bad plot, bad dialogue, bad acting, idiotic di...</td>\n",
       "      <td>0</td>\n",
       "    </tr>\n",
       "    <tr>\n",
       "      <th>49997</th>\n",
       "      <td>I am a Catholic taught in parochial elementary...</td>\n",
       "      <td>0</td>\n",
       "    </tr>\n",
       "    <tr>\n",
       "      <th>49998</th>\n",
       "      <td>I'm going to have to disagree with the previou...</td>\n",
       "      <td>0</td>\n",
       "    </tr>\n",
       "    <tr>\n",
       "      <th>49999</th>\n",
       "      <td>No one expects the Star Trek movies to be high...</td>\n",
       "      <td>0</td>\n",
       "    </tr>\n",
       "  </tbody>\n",
       "</table>\n",
       "<p>50000 rows × 2 columns</p>\n",
       "</div>"
      ],
      "text/plain": [
       "                                                       x  y\n",
       "0      One of the other reviewers has mentioned that ...  1\n",
       "1      A wonderful little production. <br /><br />The...  1\n",
       "2      I thought this was a wonderful way to spend ti...  1\n",
       "3      Basically there's a family where a little boy ...  0\n",
       "4      Petter Mattei's \"Love in the Time of Money\" is...  1\n",
       "...                                                  ... ..\n",
       "49995  I thought this movie did a down right good job...  1\n",
       "49996  Bad plot, bad dialogue, bad acting, idiotic di...  0\n",
       "49997  I am a Catholic taught in parochial elementary...  0\n",
       "49998  I'm going to have to disagree with the previou...  0\n",
       "49999  No one expects the Star Trek movies to be high...  0\n",
       "\n",
       "[50000 rows x 2 columns]"
      ]
     },
     "execution_count": 3,
     "metadata": {},
     "output_type": "execute_result"
    }
   ],
   "source": [
    "df_formatted = pd.DataFrame()\n",
    "df_formatted['x'] = df_raw.review\n",
    "df_formatted['y'] = (df_raw.sentiment == 'positive').astype(int)\n",
    "df_formatted"
   ]
  },
  {
   "cell_type": "code",
   "execution_count": 4,
   "id": "932c5e7f",
   "metadata": {},
   "outputs": [
    {
     "name": "stdout",
     "output_type": "stream",
     "text": [
      "Train: (25000, 2)\n",
      "Test: (25000, 2)\n"
     ]
    }
   ],
   "source": [
    "from sklearn.model_selection import train_test_split\n",
    "\n",
    "df_train, df_test = train_test_split(df_formatted, test_size=0.5, random_state=123, stratify=df_formatted.y)\n",
    "print(f'Train: {df_train.shape}')\n",
    "print(f'Test: {df_test.shape}')"
   ]
  },
  {
   "cell_type": "code",
   "execution_count": 5,
   "id": "ada5f02d",
   "metadata": {},
   "outputs": [
    {
     "data": {
      "text/plain": [
       "<25000x800000 sparse matrix of type '<class 'numpy.int64'>'\n",
       "\twith 10619416 stored elements in Compressed Sparse Row format>"
      ]
     },
     "execution_count": 5,
     "metadata": {},
     "output_type": "execute_result"
    }
   ],
   "source": [
    "from sklearn.feature_extraction.text import CountVectorizer\n",
    "\n",
    "cv_params = {\n",
    "    'ngram_range': (1, 3),\n",
    "    'token_pattern': r'\\w+',\n",
    "    'max_features': 800000,\n",
    "}\n",
    "\n",
    "cv = CountVectorizer(**cv_params)\n",
    "dtm = cv.fit_transform(df_train.x)\n",
    "dtm"
   ]
  },
  {
   "cell_type": "code",
   "execution_count": 6,
   "id": "0c7d2255",
   "metadata": {},
   "outputs": [
    {
     "name": "stdout",
     "output_type": "stream",
     "text": [
      "Classes: [0 1]\n",
      "Log probs shape: (2, 800000)\n",
      "Log probs: [[-10.55601814 -14.74060958 -14.74060958 ... -14.74060958 -15.83922187\n",
      "  -14.22978396]\n",
      " [-12.06037849 -15.15142095 -15.15142095 ... -14.45827377 -14.05280866\n",
      "  -14.45827377]]\n"
     ]
    }
   ],
   "source": [
    "from sklearn.naive_bayes import MultinomialNB\n",
    "\n",
    "nb = MultinomialNB()\n",
    "nb.fit(dtm, df_train.y)\n",
    "print(f'Classes: {nb.classes_}')\n",
    "print(f'Log probs shape: {nb.feature_log_prob_.shape}')\n",
    "print(f'Log probs: {nb.feature_log_prob_}')"
   ]
  },
  {
   "cell_type": "code",
   "execution_count": 7,
   "id": "9540ece7",
   "metadata": {},
   "outputs": [
    {
     "data": {
      "text/plain": [
       "(800000,)"
      ]
     },
     "execution_count": 7,
     "metadata": {},
     "output_type": "execute_result"
    }
   ],
   "source": [
    "log_probs = nb.feature_log_prob_[0] - nb.feature_log_prob_[1]\n",
    "log_probs.shape"
   ]
  },
  {
   "cell_type": "code",
   "execution_count": 8,
   "id": "9959be41",
   "metadata": {},
   "outputs": [
    {
     "name": "stdout",
     "output_type": "stream",
     "text": [
      "Vocab lenght: 800000\n",
      "Vocab slice: {'this': 727512, 'picture': 525671, 'hit': 286679, 'the': 670083, 'movie': 431200}\n"
     ]
    }
   ],
   "source": [
    "from itertools import islice\n",
    "\n",
    "vocab = cv.vocabulary_\n",
    "print(f'Vocab lenght: {len(vocab)}')\n",
    "print(f'Vocab slice: {dict(islice(vocab.items(), 5))}')"
   ]
  },
  {
   "cell_type": "code",
   "execution_count": 9,
   "id": "56601821",
   "metadata": {},
   "outputs": [
    {
     "name": "stdout",
     "output_type": "stream",
     "text": [
      "Train probs shape: (25000, 800000)\n",
      "Test probs shape: (25000, 800000)\n"
     ]
    }
   ],
   "source": [
    "binary_cv = CountVectorizer(binary=True, vocabulary=vocab, **cv_params)\n",
    "binary_dtm_train = binary_cv.fit_transform(df_train.x)\n",
    "binary_dtm_test = binary_cv.transform(df_test.x)\n",
    "probs_train = binary_dtm_train.multiply(log_probs)\n",
    "probs_test = binary_dtm_test.multiply(log_probs)\n",
    "print(f'Train probs shape: {probs_train.shape}')\n",
    "print(f'Test probs shape: {probs_test.shape}')"
   ]
  },
  {
   "cell_type": "code",
   "execution_count": 10,
   "id": "c7e827f7",
   "metadata": {},
   "outputs": [],
   "source": [
    "from sklearn.preprocessing import MaxAbsScaler\n",
    "\n",
    "scaler = MaxAbsScaler()\n",
    "scaled_probs_train = scaler.fit_transform(probs_train)\n",
    "scaled_probs_test = scaler.transform(probs_test)"
   ]
  },
  {
   "cell_type": "code",
   "execution_count": 11,
   "id": "3e6a5bc2",
   "metadata": {},
   "outputs": [
    {
     "name": "stdout",
     "output_type": "stream",
     "text": [
      "SVM score: 0.90304\n"
     ]
    }
   ],
   "source": [
    "from sklearn.svm import LinearSVC\n",
    "\n",
    "svm = LinearSVC(max_iter=10000)\n",
    "svm.fit(scaled_probs_train, df_train.y)\n",
    "svm_score = svm.score(scaled_probs_test, df_test.y)\n",
    "print(f'SVM score: {svm_score}')"
   ]
  },
  {
   "cell_type": "code",
   "execution_count": 12,
   "id": "6203102d",
   "metadata": {},
   "outputs": [
    {
     "name": "stdout",
     "output_type": "stream",
     "text": [
      "LR score: 0.9078\n"
     ]
    }
   ],
   "source": [
    "from sklearn.linear_model import LogisticRegression\n",
    "\n",
    "lr = LogisticRegression(solver='saga', max_iter=10000)\n",
    "lr.fit(scaled_probs_train, df_train.y)\n",
    "lr_score = lr.score(scaled_probs_test, df_test.y)\n",
    "print(f'LR score: {lr_score}')"
   ]
  }
 ],
 "metadata": {
  "kernelspec": {
   "display_name": "JupyterTests310",
   "language": "python",
   "name": "jupytertests310"
  },
  "language_info": {
   "codemirror_mode": {
    "name": "ipython",
    "version": 3
   },
   "file_extension": ".py",
   "mimetype": "text/x-python",
   "name": "python",
   "nbconvert_exporter": "python",
   "pygments_lexer": "ipython3",
   "version": "3.10.6"
  }
 },
 "nbformat": 4,
 "nbformat_minor": 5
}
